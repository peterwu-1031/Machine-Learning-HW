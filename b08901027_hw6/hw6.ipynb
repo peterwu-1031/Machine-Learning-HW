{
  "nbformat": 4,
  "nbformat_minor": 0,
  "metadata": {
    "colab": {
      "name": "hw6.ipynb",
      "provenance": [],
      "collapsed_sections": []
    },
    "kernelspec": {
      "name": "python3",
      "display_name": "Python 3"
    },
    "language_info": {
      "name": "python"
    },
    "accelerator": "GPU"
  },
  "cells": [
    {
      "cell_type": "code",
      "metadata": {
        "id": "TWhJqMJ1JkNh"
      },
      "source": [
        "workspace_dir = '.'\n",
        "!gdown --id 1TMJHk4sZ5KZiDCJ6vSFcTH6LgRf2i6jz --output \"{workspace_dir}/crypko_data.zip\"\n",
        "!unzip -q \"{workspace_dir}/crypko_data.zip\" -d \"{workspace_dir}/\"\n",
        "\n",
        "#reference:https://github.com/lucidrains/stylegan2-pytorch\n",
        "!pip install stylegan2_pytorch"
      ],
      "execution_count": null,
      "outputs": []
    },
    {
      "cell_type": "code",
      "metadata": {
        "colab": {
          "base_uri": "https://localhost:8080/"
        },
        "id": "tc6nE0la5ay-",
        "outputId": "aace061e-7602-473f-9093-a93d6eb8bd8a"
      },
      "source": [
        "!stylegan2_pytorch --data ./faces --batch-size 16 --gradient-accumulate-every 1 --num-train-steps 100000 --attn-layers 1 --calculate-fid-every 10000"
      ],
      "execution_count": null,
      "outputs": [
        {
          "output_type": "stream",
          "text": [
            "default<./faces>:   0% 0/75000 [00:00<?, ?it/s]\n",
            "Traceback (most recent call last):\n",
            "  File \"/usr/local/bin/stylegan2_pytorch\", line 8, in <module>\n",
            "    sys.exit(main())\n",
            "  File \"/usr/local/lib/python3.7/dist-packages/stylegan2_pytorch/cli.py\", line 187, in main\n",
            "    fire.Fire(train_from_folder)\n",
            "  File \"/usr/local/lib/python3.7/dist-packages/fire/core.py\", line 141, in Fire\n",
            "    component_trace = _Fire(component, args, parsed_flag_args, context, name)\n",
            "  File \"/usr/local/lib/python3.7/dist-packages/fire/core.py\", line 471, in _Fire\n",
            "    target=component.__name__)\n",
            "  File \"/usr/local/lib/python3.7/dist-packages/fire/core.py\", line 681, in _CallAndUpdateTrace\n",
            "    component = fn(*varargs, **kwargs)\n",
            "  File \"/usr/local/lib/python3.7/dist-packages/stylegan2_pytorch/cli.py\", line 178, in train_from_folder\n",
            "    run_training(0, 1, model_args, data, load_from, new, num_train_steps, name, seed)\n",
            "  File \"/usr/local/lib/python3.7/dist-packages/stylegan2_pytorch/cli.py\", line 59, in run_training\n",
            "    retry_call(model.train, tries=3, exceptions=NanException)\n",
            "  File \"/usr/local/lib/python3.7/dist-packages/retry/api.py\", line 101, in retry_call\n",
            "    return __retry_internal(partial(f, *args, **kwargs), exceptions, tries, delay, max_delay, backoff, jitter, logger)\n",
            "  File \"/usr/local/lib/python3.7/dist-packages/retry/api.py\", line 33, in __retry_internal\n",
            "    return f()\n",
            "  File \"/usr/local/lib/python3.7/dist-packages/stylegan2_pytorch/stylegan2_pytorch.py\", line 1056, in train\n",
            "    gp = gradient_penalty(image_batch, real_output)\n",
            "  File \"/usr/local/lib/python3.7/dist-packages/stylegan2_pytorch/stylegan2_pytorch.py\", line 239, in gradient_penalty\n",
            "    create_graph=True, retain_graph=True, only_inputs=True)[0]\n",
            "  File \"/usr/local/lib/python3.7/dist-packages/torch/autograd/__init__.py\", line 225, in grad\n",
            "    inputs, allow_unused, accumulate_grad=False)\n",
            "RuntimeError: CUDA out of memory. Tried to allocate 256.00 MiB (GPU 0; 14.76 GiB total capacity; 13.38 GiB already allocated; 185.75 MiB free; 13.54 GiB reserved in total by PyTorch)\n"
          ],
          "name": "stdout"
        }
      ]
    },
    {
      "cell_type": "code",
      "metadata": {
        "id": "bbXIsF68erMj"
      },
      "source": [
        "for i in range(16):\n",
        "    !stylegan2_pytorch --generate --trunc-psi 0.9"
      ],
      "execution_count": null,
      "outputs": []
    },
    {
      "cell_type": "code",
      "metadata": {
        "id": "-KzuqKtYgv82"
      },
      "source": [
        "from os import walk\n",
        "import cv2\n",
        "images = []\n",
        "images_mr = []\n",
        "for (dirpath, dirnames, filenames) in walk('.'):\n",
        "    images.extend(filenames)\n",
        "    break\n",
        "for i in images:\n",
        "    if ('mr' in i and '05-14' in i):\n",
        "        images_mr.append(i)\n",
        "images_num = 1\n",
        "for k in images_mr:\n",
        "    img = cv2.imread(f'./{k}')\n",
        "    for i in range(8):\n",
        "        for j in range(8):\n",
        "                if images_num > 1000:\n",
        "                    break\n",
        "                img_cap = img[(2*(i+1)+i*64):(2*(i+1)+(i+1)*64),(2*(j+1)+j*64):(2*(j+1)+(j+1)*64),:]\n",
        "                cv2.imwrite(f'./output/{images_num}.jpg', img_cap, [int(cv2.IMWRITE_JPEG_QUALITY), 90])\n",
        "                images_num += 1\n",
        "        if images_num > 1000:\n",
        "            break\n",
        "    if images_num > 1000:\n",
        "        break"
      ],
      "execution_count": null,
      "outputs": []
    },
    {
      "cell_type": "code",
      "metadata": {
        "id": "656q5BzUyprz"
      },
      "source": [
        "%cd output\n",
        "!tar -zcf ../images.tgz *.jpg\n",
        "%cd .."
      ],
      "execution_count": null,
      "outputs": []
    }
  ]
}