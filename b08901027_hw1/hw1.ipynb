{
  "nbformat": 4,
  "nbformat_minor": 0,
  "metadata": {
    "colab": {
      "name": "「ML2021Spring - HW1.ipynb」的副本",
      "provenance": [],
      "collapsed_sections": []
    },
    "kernelspec": {
      "name": "python3",
      "display_name": "Python 3"
    },
    "accelerator": "GPU"
  },
  "cells": [
    {
      "cell_type": "markdown",
      "metadata": {
        "id": "mz0_QVkxCrX3"
      },
      "source": [
        "# **Homework 1: COVID-19 Cases Prediction (Regression)**"
      ]
    },
    {
      "cell_type": "markdown",
      "metadata": {
        "id": "ZeZnPAiwDRWG"
      },
      "source": [
        "Author: Heng-Jui Chang\n",
        "\n",
        "Slides: https://github.com/ga642381/ML2021-Spring/blob/main/HW01/HW01.pdf  \n",
        "Video: TBA\n",
        "\n",
        "Objectives:\n",
        "* Solve a regression problem with deep neural networks (DNN).\n",
        "* Understand basic DNN training tips.\n",
        "* Get familiar with PyTorch.\n",
        "\n",
        "If any questions, please contact the TAs via TA hours, NTU COOL, or email.\n"
      ]
    },
    {
      "cell_type": "markdown",
      "metadata": {
        "id": "Jx3x1nDkG-Uy"
      },
      "source": [
        "# **Download Data**\n",
        "\n",
        "\n",
        "If the Google drive links are dead, you can download data from [kaggle](https://www.kaggle.com/c/ml2021spring-hw1/data), and upload data manually to the workspace."
      ]
    },
    {
      "cell_type": "code",
      "metadata": {
        "colab": {
          "base_uri": "https://localhost:8080/"
        },
        "id": "tMj55YDKG6ch",
        "outputId": "ed3dc41b-5943-4344-a7ed-f01c95f8cf14"
      },
      "source": [
        "tr_path = 'covid.train.csv'  # path to training data\n",
        "tt_path = 'covid.test.csv'   # path to testing data\n",
        "\n",
        "!gdown --id '19CCyCgJrUxtvgZF53vnctJiOJ23T5mqF' --output covid.train.csv\n",
        "!gdown --id '1CE240jLm2npU-tdz81-oVKEF3T2yfT1O' --output covid.test.csv"
      ],
      "execution_count": 1,
      "outputs": [
        {
          "output_type": "stream",
          "text": [
            "Downloading...\n",
            "From: https://drive.google.com/uc?id=19CCyCgJrUxtvgZF53vnctJiOJ23T5mqF\n",
            "To: /content/covid.train.csv\n",
            "100% 2.00M/2.00M [00:00<00:00, 31.7MB/s]\n",
            "Downloading...\n",
            "From: https://drive.google.com/uc?id=1CE240jLm2npU-tdz81-oVKEF3T2yfT1O\n",
            "To: /content/covid.test.csv\n",
            "100% 651k/651k [00:00<00:00, 10.3MB/s]\n"
          ],
          "name": "stdout"
        }
      ]
    },
    {
      "cell_type": "markdown",
      "metadata": {
        "id": "wS_4-77xHk44"
      },
      "source": [
        "# **Import Some Packages**"
      ]
    },
    {
      "cell_type": "code",
      "metadata": {
        "id": "k-onQd4JNA5H"
      },
      "source": [
        "# PyTorch\n",
        "import torch\n",
        "import torch.nn as nn\n",
        "from torch.utils.data import Dataset, DataLoader\n",
        "\n",
        "# For data preprocess\n",
        "import numpy as np\n",
        "import csv\n",
        "import os\n",
        "\n",
        "# For plotting\n",
        "import matplotlib.pyplot as plt\n",
        "from matplotlib.pyplot import figure\n",
        "\n",
        "myseed = 42069  # set a random seed for reproducibility\n",
        "torch.backends.cudnn.deterministic = True\n",
        "torch.backends.cudnn.benchmark = False\n",
        "np.random.seed(myseed)\n",
        "torch.manual_seed(myseed)\n",
        "if torch.cuda.is_available():\n",
        "    torch.cuda.manual_seed_all(myseed)"
      ],
      "execution_count": 2,
      "outputs": []
    },
    {
      "cell_type": "markdown",
      "metadata": {
        "id": "BtE3b6JEH7rw"
      },
      "source": [
        "# **Some Utilities**\n",
        "\n",
        "You do not need to modify this part."
      ]
    },
    {
      "cell_type": "code",
      "metadata": {
        "id": "FWMT3uf1NGQp"
      },
      "source": [
        "def get_device():\n",
        "    ''' Get device (if GPU is available, use GPU) '''\n",
        "    return 'cuda' if torch.cuda.is_available() else 'cpu'\n",
        "\n",
        "def plot_learning_curve(loss_record, title=''):\n",
        "    ''' Plot learning curve of your DNN (train & dev loss) '''\n",
        "    total_steps = len(loss_record['train'])\n",
        "    x_1 = range(total_steps)\n",
        "    x_2 = x_1[::len(loss_record['train']) // len(loss_record['dev'])]\n",
        "    figure(figsize=(6, 4))\n",
        "    plt.plot(x_1, loss_record['train'], c='tab:red', label='train')\n",
        "    plt.plot(x_2, loss_record['dev'], c='tab:cyan', label='dev')\n",
        "    plt.ylim(0.0, 5.)\n",
        "    plt.xlabel('Training steps')\n",
        "    plt.ylabel('MSE loss')\n",
        "    plt.title('Learning curve of {}'.format(title))\n",
        "    plt.legend()\n",
        "    plt.show()\n",
        "\n",
        "\n",
        "def plot_pred(dv_set, model, device, lim=35., preds=None, targets=None):\n",
        "    ''' Plot prediction of your DNN '''\n",
        "    if preds is None or targets is None:\n",
        "        model.eval()\n",
        "        preds, targets = [], []\n",
        "        for x, y in dv_set:\n",
        "            x, y = x.to(device), y.to(device)\n",
        "            with torch.no_grad():\n",
        "                pred = model(x)\n",
        "                preds.append(pred.detach().cpu())\n",
        "                targets.append(y.detach().cpu())\n",
        "        preds = torch.cat(preds, dim=0).numpy()\n",
        "        targets = torch.cat(targets, dim=0).numpy()\n",
        "\n",
        "    figure(figsize=(5, 5))\n",
        "    plt.scatter(targets, preds, c='r', alpha=0.5)\n",
        "    plt.plot([-0.2, lim], [-0.2, lim], c='b')\n",
        "    plt.xlim(-0.2, lim)\n",
        "    plt.ylim(-0.2, lim)\n",
        "    plt.xlabel('ground truth value')\n",
        "    plt.ylabel('predicted value')\n",
        "    plt.title('Ground Truth v.s. Prediction')\n",
        "    plt.show()"
      ],
      "execution_count": 3,
      "outputs": []
    },
    {
      "cell_type": "markdown",
      "metadata": {
        "id": "39U_XFX6KOoj"
      },
      "source": [
        "# **Preprocess**\n",
        "\n",
        "We have three kinds of datasets:\n",
        "* `train`: for training\n",
        "* `dev`: for validation\n",
        "* `test`: for testing (w/o target value)"
      ]
    },
    {
      "cell_type": "markdown",
      "metadata": {
        "id": "TQ-MdwpLL7Dt"
      },
      "source": [
        "## **Dataset**\n",
        "\n",
        "The `COVID19Dataset` below does:\n",
        "* read `.csv` files\n",
        "* extract features\n",
        "* split `covid.train.csv` into train/dev sets\n",
        "* normalize features\n",
        "\n",
        "Finishing `TODO` below might make you pass medium baseline."
      ]
    },
    {
      "cell_type": "code",
      "metadata": {
        "id": "0zlpIp9ANJRU"
      },
      "source": [
        "class COVID19Dataset(Dataset):\n",
        "    ''' Dataset for loading and preprocessing the COVID19 dataset '''\n",
        "    def __init__(self,\n",
        "                 path,\n",
        "                 mode='train',\n",
        "                 target_only=False):\n",
        "        self.mode = mode\n",
        "\n",
        "        # Read data into numpy arrays\n",
        "        with open(path, 'r') as fp:\n",
        "            data = list(csv.reader(fp))\n",
        "            data = np.array(data[1:])[:, 1:].astype(float)\n",
        "        \n",
        "        if not target_only:\n",
        "            feats = list(range(93))\n",
        "        else:\n",
        "            # TODO: Using 40 states & 2 tested_positive features (indices = 57 & 75)\n",
        "            feats = list(range(40)) + [40, 41, 42, 43, 57, 58, 59, 60, 61, 75, 76, 77, 78, 79]\n",
        "            pass\n",
        "\n",
        "        if mode == 'test':\n",
        "            # Testing data\n",
        "            # data: 893 x 93 (40 states + day 1 (18) + day 2 (18) + day 3 (17))\n",
        "            data = data[:, feats]\n",
        "            self.data = torch.FloatTensor(data)\n",
        "        else:\n",
        "            # Training data (train/dev sets)\n",
        "            # data: 2700 x 94 (40 states + day 1 (18) + day 2 (18) + day 3 (18))\n",
        "            target = data[:, -1]\n",
        "            data = data[:, feats]\n",
        "            \n",
        "            # Splitting training data into train & dev sets\n",
        "            if mode == 'train':\n",
        "                indices = [i for i in range(len(data)) if i % 10 != 1]\n",
        "            elif mode == 'dev':\n",
        "                indices = [i for i in range(len(data)) if i % 10 == 1]\n",
        "            '''\n",
        "            shuffled_indices = [i for i in range(len(data))]\n",
        "            np.random.shuffle(shuffled_indices)\n",
        "            indices = []\n",
        "            if mode == 'train':\n",
        "                indices = shuffled_indices[270:]\n",
        "            elif mode == 'dev':\n",
        "                indices = shuffled_indices[:270]\n",
        "            '''\n",
        "            # Convert data into PyTorch tensors\n",
        "            self.data = torch.FloatTensor(data[indices])\n",
        "            self.target = torch.FloatTensor(target[indices])\n",
        "\n",
        "        # Normalize features (you may remove this part to see what will happen)\n",
        "        '''\n",
        "        self.data[:, 40:] = \\\n",
        "            (self.data[:, 40:] - self.data[:, 40:].mean(dim=0, keepdim=True)) \\\n",
        "            / self.data[:, 40:].std(dim=0, keepdim=True)\n",
        "        '''\n",
        "\n",
        "        self.dim = self.data.shape[1]\n",
        "\n",
        "        print('Finished reading the {} set of COVID19 Dataset ({} samples found, each dim = {})'\n",
        "              .format(mode, len(self.data), self.dim))\n",
        "\n",
        "    def __getitem__(self, index):\n",
        "        # Returns one sample at a time\n",
        "        if self.mode in ['train', 'dev']:\n",
        "            # For training\n",
        "            return self.data[index], self.target[index]\n",
        "        else:\n",
        "            # For testing (no target)\n",
        "            return self.data[index]\n",
        "\n",
        "    def __len__(self):\n",
        "        # Returns the size of the dataset\n",
        "        return len(self.data)"
      ],
      "execution_count": 4,
      "outputs": []
    },
    {
      "cell_type": "markdown",
      "metadata": {
        "id": "AlhTlkE7MDo3"
      },
      "source": [
        "## **DataLoader**\n",
        "\n",
        "A `DataLoader` loads data from a given `Dataset` into batches.\n"
      ]
    },
    {
      "cell_type": "code",
      "metadata": {
        "id": "hlhLk5t6MBX3"
      },
      "source": [
        "def prep_dataloader(path, mode, batch_size, n_jobs=0, target_only=False):\n",
        "    ''' Generates a dataset, then is put into a dataloader. '''\n",
        "    dataset = COVID19Dataset(path, mode=mode, target_only=target_only)  # Construct dataset\n",
        "    dataloader = DataLoader(\n",
        "        dataset, batch_size,\n",
        "        shuffle=(mode == 'train'), drop_last=False,\n",
        "        num_workers=n_jobs, pin_memory=True)                            # Construct dataloader\n",
        "    return dataloader"
      ],
      "execution_count": 5,
      "outputs": []
    },
    {
      "cell_type": "markdown",
      "metadata": {
        "id": "SGuycwR0MeQB"
      },
      "source": [
        "# **Deep Neural Network**\n",
        "\n",
        "`NeuralNet` is an `nn.Module` designed for regression.\n",
        "The DNN consists of 2 fully-connected layers with ReLU activation.\n",
        "This module also included a function `cal_loss` for calculating loss.\n"
      ]
    },
    {
      "cell_type": "code",
      "metadata": {
        "id": "49-uXYovOAI0"
      },
      "source": [
        "class NeuralNet(nn.Module):\n",
        "    ''' A simple fully-connected deep neural network '''\n",
        "    def __init__(self, input_dim):\n",
        "        super(NeuralNet, self).__init__()\n",
        "\n",
        "        # Define your neural network here\n",
        "        # TODO: How to modify this model to achieve better performance?\n",
        "        self.net = nn.Sequential(\n",
        "            nn.Linear(input_dim, 54),\n",
        "            #nn.ReLU(),\n",
        "            nn.Linear(54, 1)\n",
        "        )\n",
        "\n",
        "        # Mean squared error loss\n",
        "        self.criterion = nn.MSELoss(reduction='mean')\n",
        "\n",
        "    def forward(self, x):\n",
        "        ''' Given input of size (batch_size x input_dim), compute output of the network '''\n",
        "        return self.net(x).squeeze(1)\n",
        "\n",
        "    def cal_loss(self, pred, target):\n",
        "        ''' Calculate loss '''\n",
        "        # TODO: you may implement L2 regularization here\n",
        "        l2_rate = 0.00025\n",
        "        weights_square_sum = 0.0\n",
        "        for i in self.net:\n",
        "          if type(i) == nn.Linear:\n",
        "            weights_square_sum += i.weight.norm() ** 2\n",
        "        return (self.criterion(pred, target) + l2_rate * weights_square_sum)"
      ],
      "execution_count": 6,
      "outputs": []
    },
    {
      "cell_type": "markdown",
      "metadata": {
        "id": "DvFWVjZ5Nvga"
      },
      "source": [
        "# **Train/Dev/Test**"
      ]
    },
    {
      "cell_type": "markdown",
      "metadata": {
        "id": "MAM8QecJOyqn"
      },
      "source": [
        "## **Training**"
      ]
    },
    {
      "cell_type": "code",
      "metadata": {
        "id": "lOqcmYzMO7jB"
      },
      "source": [
        "def train(tr_set, dv_set, model, config, device):\n",
        "    ''' DNN training '''\n",
        "\n",
        "    n_epochs = config['n_epochs']  # Maximum number of epochs\n",
        "\n",
        "    # Setup optimizer\n",
        "    optimizer = getattr(torch.optim, config['optimizer'])(\n",
        "        model.parameters(), **config['optim_hparas'])\n",
        "\n",
        "    min_mse = 1000.\n",
        "    loss_record = {'train': [], 'dev': []}      # for recording training loss\n",
        "    early_stop_cnt = 0\n",
        "    epoch = 0\n",
        "    while epoch < n_epochs:\n",
        "        model.train()                           # set model to training mode\n",
        "        for x, y in tr_set:                     # iterate through the dataloader\n",
        "            optimizer.zero_grad()               # set gradient to zero\n",
        "            x, y = x.to(device), y.to(device)   # move data to device (cpu/cuda)\n",
        "            pred = model(x)                     # forward pass (compute output)\n",
        "            mse_loss = model.cal_loss(pred, y)  # compute loss\n",
        "            mse_loss.backward()                 # compute gradient (backpropagation)\n",
        "            optimizer.step()                    # update model with optimizer\n",
        "            loss_record['train'].append(mse_loss.detach().cpu().item())\n",
        "\n",
        "        # After each epoch, test your model on the validation (development) set.\n",
        "        dev_mse = dev(dv_set, model, device)\n",
        "        if dev_mse < min_mse:\n",
        "            # Save model if your model improved\n",
        "            min_mse = dev_mse\n",
        "            print('Saving model (epoch = {:4d}, loss = {:.4f})'\n",
        "                .format(epoch + 1, min_mse))\n",
        "            torch.save(model.state_dict(), config['save_path'])  # Save model to specified path\n",
        "            early_stop_cnt = 0\n",
        "        else:\n",
        "            early_stop_cnt += 1\n",
        "\n",
        "        epoch += 1\n",
        "        loss_record['dev'].append(dev_mse)\n",
        "        if early_stop_cnt > config['early_stop']:\n",
        "            # Stop training if your model stops improving for \"config['early_stop']\" epochs.\n",
        "            break\n",
        "\n",
        "    print('Finished training after {} epochs'.format(epoch))\n",
        "    \n",
        "    return min_mse, loss_record"
      ],
      "execution_count": 7,
      "outputs": []
    },
    {
      "cell_type": "markdown",
      "metadata": {
        "id": "0hSd4Bn3O2PL"
      },
      "source": [
        "## **Validation**"
      ]
    },
    {
      "cell_type": "code",
      "metadata": {
        "id": "yrxrD3YsN3U2"
      },
      "source": [
        "def dev(dv_set, model, device):\n",
        "    model.eval()                                # set model to evalutation mode\n",
        "    total_loss = 0\n",
        "\n",
        "    l2_rate = 0.00025\n",
        "    weights_square_sum = 0.0\n",
        "    for i in model.net:\n",
        "      if type(i) == nn.Linear:\n",
        "        weights_square_sum += i.weight.norm() ** 2\n",
        "\n",
        "\n",
        "    for x, y in dv_set:                         # iterate through the dataloader\n",
        "        x, y = x.to(device), y.to(device)       # move data to device (cpu/cuda)\n",
        "        with torch.no_grad():                   # disable gradient calculation\n",
        "            pred = model(x)                     # forward pass (compute output)\n",
        "            mse_loss = model.cal_loss(pred, y)  # compute loss\n",
        "\n",
        "            mse_loss -= l2_rate * weights_square_sum\n",
        "\n",
        "        total_loss += mse_loss.detach().cpu().item() * len(x)  # accumulate loss\n",
        "    total_loss = total_loss / len(dv_set.dataset)              # compute averaged loss\n",
        "\n",
        "    return total_loss"
      ],
      "execution_count": 8,
      "outputs": []
    },
    {
      "cell_type": "markdown",
      "metadata": {
        "id": "g0pdrhQAO41L"
      },
      "source": [
        "## **Testing**"
      ]
    },
    {
      "cell_type": "code",
      "metadata": {
        "id": "aSBMRFlYN5tB"
      },
      "source": [
        "def test(tt_set, model, device):\n",
        "    model.eval()                                # set model to evalutation mode\n",
        "    preds = []\n",
        "    for x in tt_set:                            # iterate through the dataloader\n",
        "        x = x.to(device)                        # move data to device (cpu/cuda)\n",
        "        with torch.no_grad():                   # disable gradient calculation\n",
        "            pred = model(x)                     # forward pass (compute output)\n",
        "            preds.append(pred.detach().cpu())   # collect prediction\n",
        "    preds = torch.cat(preds, dim=0).numpy()     # concatenate all predictions and convert to a numpy array\n",
        "    return preds"
      ],
      "execution_count": 9,
      "outputs": []
    },
    {
      "cell_type": "markdown",
      "metadata": {
        "id": "SvckkF5dvf0j"
      },
      "source": [
        "# **Setup Hyper-parameters**\n",
        "\n",
        "`config` contains hyper-parameters for training and the path to save your model."
      ]
    },
    {
      "cell_type": "code",
      "metadata": {
        "id": "NPXpdumwPjE7"
      },
      "source": [
        "device = get_device()                 # get the current available device ('cpu' or 'cuda')\n",
        "os.makedirs('models', exist_ok=True)  # The trained model will be saved to ./models/\n",
        "target_only = True                   # TODO: Using 40 states & 2 tested_positive features\n",
        "\n",
        "# TODO: How to tune these hyper-parameters to improve your model's performance?\n",
        "config = {\n",
        "    'n_epochs': 3000,                # maximum number of epochs\n",
        "    'batch_size': 270,               # mini-batch size for dataloader\n",
        "    'optimizer': 'Adam',              # optimization algorithm (optimizer in torch.optim)\n",
        "    'optim_hparas': {                # hyper-parameters for the optimizer (depends on which optimizer you are using)\n",
        "        'lr': 0.001,                 # learning rate of SGD\n",
        "        #'momentum': 0.8,              # momentum for SGD\n",
        "    },\n",
        "    'early_stop': 200,               # early stopping epochs (the number epochs since your model's last improvement)\n",
        "    'save_path': 'models/model.pth'  # your model will be saved here\n",
        "}"
      ],
      "execution_count": 10,
      "outputs": []
    },
    {
      "cell_type": "markdown",
      "metadata": {
        "id": "6j1eOV3TOH-j"
      },
      "source": [
        "# **Load data and model**"
      ]
    },
    {
      "cell_type": "code",
      "metadata": {
        "colab": {
          "base_uri": "https://localhost:8080/"
        },
        "id": "eNrYBMmePLKm",
        "outputId": "a4dddb2a-bbe2-48a9-894b-66e860e278cd"
      },
      "source": [
        "tr_set = prep_dataloader(tr_path, 'train', config['batch_size'], target_only=target_only)\n",
        "dv_set = prep_dataloader(tr_path, 'dev', config['batch_size'], target_only=target_only)\n",
        "tt_set = prep_dataloader(tt_path, 'test', config['batch_size'], target_only=target_only)"
      ],
      "execution_count": 11,
      "outputs": [
        {
          "output_type": "stream",
          "text": [
            "Finished reading the train set of COVID19 Dataset (2430 samples found, each dim = 54)\n",
            "Finished reading the dev set of COVID19 Dataset (270 samples found, each dim = 54)\n",
            "Finished reading the test set of COVID19 Dataset (893 samples found, each dim = 54)\n"
          ],
          "name": "stdout"
        }
      ]
    },
    {
      "cell_type": "code",
      "metadata": {
        "id": "FHylSirLP9oh"
      },
      "source": [
        "model = NeuralNet(tr_set.dataset.dim).to(device)  # Construct model and move to device"
      ],
      "execution_count": 12,
      "outputs": []
    },
    {
      "cell_type": "markdown",
      "metadata": {
        "id": "sX2B_zgSOPTJ"
      },
      "source": [
        "# **Start Training!**"
      ]
    },
    {
      "cell_type": "code",
      "metadata": {
        "colab": {
          "base_uri": "https://localhost:8080/"
        },
        "id": "GrEbUxazQAAZ",
        "outputId": "94e3cb98-5607-4595-becb-c2aaf8ad6cad"
      },
      "source": [
        "model_loss, model_loss_record = train(tr_set, dv_set, model, config, device)"
      ],
      "execution_count": 13,
      "outputs": [
        {
          "output_type": "stream",
          "text": [
            "Saving model (epoch =    1, loss = 33.8938)\n",
            "Saving model (epoch =    2, loss = 14.2936)\n",
            "Saving model (epoch =    4, loss = 9.8724)\n",
            "Saving model (epoch =    6, loss = 9.3230)\n",
            "Saving model (epoch =    7, loss = 8.9939)\n",
            "Saving model (epoch =    8, loss = 8.5959)\n",
            "Saving model (epoch =    9, loss = 8.2149)\n",
            "Saving model (epoch =   10, loss = 7.8699)\n",
            "Saving model (epoch =   11, loss = 7.5263)\n",
            "Saving model (epoch =   12, loss = 7.1747)\n",
            "Saving model (epoch =   13, loss = 6.8231)\n",
            "Saving model (epoch =   14, loss = 6.4773)\n",
            "Saving model (epoch =   15, loss = 6.1365)\n",
            "Saving model (epoch =   16, loss = 5.8005)\n",
            "Saving model (epoch =   17, loss = 5.4662)\n",
            "Saving model (epoch =   18, loss = 5.1374)\n",
            "Saving model (epoch =   19, loss = 4.8109)\n",
            "Saving model (epoch =   20, loss = 4.4963)\n",
            "Saving model (epoch =   21, loss = 4.1922)\n",
            "Saving model (epoch =   22, loss = 3.8946)\n",
            "Saving model (epoch =   23, loss = 3.6117)\n",
            "Saving model (epoch =   24, loss = 3.3409)\n",
            "Saving model (epoch =   25, loss = 3.0863)\n",
            "Saving model (epoch =   26, loss = 2.8603)\n",
            "Saving model (epoch =   27, loss = 2.6386)\n",
            "Saving model (epoch =   28, loss = 2.4435)\n",
            "Saving model (epoch =   29, loss = 2.2611)\n",
            "Saving model (epoch =   30, loss = 2.1058)\n",
            "Saving model (epoch =   31, loss = 1.9694)\n",
            "Saving model (epoch =   32, loss = 1.8529)\n",
            "Saving model (epoch =   33, loss = 1.7599)\n",
            "Saving model (epoch =   34, loss = 1.6748)\n",
            "Saving model (epoch =   35, loss = 1.6138)\n",
            "Saving model (epoch =   36, loss = 1.5570)\n",
            "Saving model (epoch =   37, loss = 1.5152)\n",
            "Saving model (epoch =   38, loss = 1.4835)\n",
            "Saving model (epoch =   39, loss = 1.4586)\n",
            "Saving model (epoch =   40, loss = 1.4397)\n",
            "Saving model (epoch =   41, loss = 1.4270)\n",
            "Saving model (epoch =   42, loss = 1.4155)\n",
            "Saving model (epoch =   43, loss = 1.4096)\n",
            "Saving model (epoch =   44, loss = 1.4034)\n",
            "Saving model (epoch =   45, loss = 1.3964)\n",
            "Saving model (epoch =   46, loss = 1.3922)\n",
            "Saving model (epoch =   47, loss = 1.3900)\n",
            "Saving model (epoch =   48, loss = 1.3858)\n",
            "Saving model (epoch =   49, loss = 1.3830)\n",
            "Saving model (epoch =   50, loss = 1.3811)\n",
            "Saving model (epoch =   51, loss = 1.3778)\n",
            "Saving model (epoch =   52, loss = 1.3758)\n",
            "Saving model (epoch =   54, loss = 1.3715)\n",
            "Saving model (epoch =   55, loss = 1.3687)\n",
            "Saving model (epoch =   58, loss = 1.3630)\n",
            "Saving model (epoch =   60, loss = 1.3585)\n",
            "Saving model (epoch =   61, loss = 1.3567)\n",
            "Saving model (epoch =   64, loss = 1.3516)\n",
            "Saving model (epoch =   68, loss = 1.3468)\n",
            "Saving model (epoch =   69, loss = 1.3425)\n",
            "Saving model (epoch =   70, loss = 1.3414)\n",
            "Saving model (epoch =   71, loss = 1.3414)\n",
            "Saving model (epoch =   72, loss = 1.3370)\n",
            "Saving model (epoch =   73, loss = 1.3358)\n",
            "Saving model (epoch =   74, loss = 1.3338)\n",
            "Saving model (epoch =   77, loss = 1.3303)\n",
            "Saving model (epoch =   79, loss = 1.3259)\n",
            "Saving model (epoch =   81, loss = 1.3225)\n",
            "Saving model (epoch =   83, loss = 1.3201)\n",
            "Saving model (epoch =   84, loss = 1.3192)\n",
            "Saving model (epoch =   85, loss = 1.3168)\n",
            "Saving model (epoch =   91, loss = 1.3091)\n",
            "Saving model (epoch =   92, loss = 1.3052)\n",
            "Saving model (epoch =   95, loss = 1.3045)\n",
            "Saving model (epoch =   96, loss = 1.3041)\n",
            "Saving model (epoch =   97, loss = 1.2979)\n",
            "Saving model (epoch =   98, loss = 1.2968)\n",
            "Saving model (epoch =   99, loss = 1.2949)\n",
            "Saving model (epoch =  102, loss = 1.2915)\n",
            "Saving model (epoch =  104, loss = 1.2867)\n",
            "Saving model (epoch =  105, loss = 1.2854)\n",
            "Saving model (epoch =  112, loss = 1.2782)\n",
            "Saving model (epoch =  113, loss = 1.2762)\n",
            "Saving model (epoch =  114, loss = 1.2740)\n",
            "Saving model (epoch =  116, loss = 1.2730)\n",
            "Saving model (epoch =  117, loss = 1.2672)\n",
            "Saving model (epoch =  119, loss = 1.2635)\n",
            "Saving model (epoch =  121, loss = 1.2607)\n",
            "Saving model (epoch =  123, loss = 1.2592)\n",
            "Saving model (epoch =  124, loss = 1.2578)\n",
            "Saving model (epoch =  125, loss = 1.2551)\n",
            "Saving model (epoch =  126, loss = 1.2541)\n",
            "Saving model (epoch =  128, loss = 1.2538)\n",
            "Saving model (epoch =  131, loss = 1.2458)\n",
            "Saving model (epoch =  132, loss = 1.2443)\n",
            "Saving model (epoch =  138, loss = 1.2356)\n",
            "Saving model (epoch =  143, loss = 1.2290)\n",
            "Saving model (epoch =  145, loss = 1.2263)\n",
            "Saving model (epoch =  146, loss = 1.2251)\n",
            "Saving model (epoch =  153, loss = 1.2196)\n",
            "Saving model (epoch =  154, loss = 1.2153)\n",
            "Saving model (epoch =  156, loss = 1.2129)\n",
            "Saving model (epoch =  157, loss = 1.2116)\n",
            "Saving model (epoch =  161, loss = 1.2054)\n",
            "Saving model (epoch =  164, loss = 1.2038)\n",
            "Saving model (epoch =  165, loss = 1.2000)\n",
            "Saving model (epoch =  167, loss = 1.1984)\n",
            "Saving model (epoch =  170, loss = 1.1951)\n",
            "Saving model (epoch =  171, loss = 1.1944)\n",
            "Saving model (epoch =  172, loss = 1.1928)\n",
            "Saving model (epoch =  174, loss = 1.1903)\n",
            "Saving model (epoch =  176, loss = 1.1870)\n",
            "Saving model (epoch =  182, loss = 1.1822)\n",
            "Saving model (epoch =  186, loss = 1.1764)\n",
            "Saving model (epoch =  191, loss = 1.1735)\n",
            "Saving model (epoch =  192, loss = 1.1711)\n",
            "Saving model (epoch =  196, loss = 1.1675)\n",
            "Saving model (epoch =  203, loss = 1.1668)\n",
            "Saving model (epoch =  204, loss = 1.1622)\n",
            "Saving model (epoch =  206, loss = 1.1590)\n",
            "Saving model (epoch =  209, loss = 1.1568)\n",
            "Saving model (epoch =  211, loss = 1.1567)\n",
            "Saving model (epoch =  212, loss = 1.1548)\n",
            "Saving model (epoch =  215, loss = 1.1515)\n",
            "Saving model (epoch =  216, loss = 1.1512)\n",
            "Saving model (epoch =  225, loss = 1.1497)\n",
            "Saving model (epoch =  226, loss = 1.1480)\n",
            "Saving model (epoch =  227, loss = 1.1417)\n",
            "Saving model (epoch =  237, loss = 1.1353)\n",
            "Saving model (epoch =  241, loss = 1.1335)\n",
            "Saving model (epoch =  242, loss = 1.1329)\n",
            "Saving model (epoch =  250, loss = 1.1289)\n",
            "Saving model (epoch =  254, loss = 1.1278)\n",
            "Saving model (epoch =  257, loss = 1.1259)\n",
            "Saving model (epoch =  259, loss = 1.1238)\n",
            "Saving model (epoch =  264, loss = 1.1230)\n",
            "Saving model (epoch =  265, loss = 1.1220)\n",
            "Saving model (epoch =  268, loss = 1.1204)\n",
            "Saving model (epoch =  270, loss = 1.1202)\n",
            "Saving model (epoch =  279, loss = 1.1158)\n",
            "Saving model (epoch =  282, loss = 1.1148)\n",
            "Saving model (epoch =  284, loss = 1.1140)\n",
            "Saving model (epoch =  285, loss = 1.1139)\n",
            "Saving model (epoch =  294, loss = 1.1116)\n",
            "Saving model (epoch =  301, loss = 1.1106)\n",
            "Saving model (epoch =  306, loss = 1.1094)\n",
            "Saving model (epoch =  307, loss = 1.1092)\n",
            "Saving model (epoch =  309, loss = 1.1085)\n",
            "Saving model (epoch =  316, loss = 1.1051)\n",
            "Saving model (epoch =  329, loss = 1.1040)\n",
            "Saving model (epoch =  332, loss = 1.1024)\n",
            "Saving model (epoch =  347, loss = 1.1012)\n",
            "Saving model (epoch =  352, loss = 1.0993)\n",
            "Saving model (epoch =  369, loss = 1.0985)\n",
            "Saving model (epoch =  376, loss = 1.0972)\n",
            "Saving model (epoch =  402, loss = 1.0970)\n",
            "Saving model (epoch =  404, loss = 1.0946)\n",
            "Saving model (epoch =  438, loss = 1.0942)\n",
            "Saving model (epoch =  440, loss = 1.0941)\n",
            "Saving model (epoch =  445, loss = 1.0931)\n",
            "Saving model (epoch =  449, loss = 1.0927)\n",
            "Saving model (epoch =  460, loss = 1.0922)\n",
            "Saving model (epoch =  464, loss = 1.0922)\n",
            "Saving model (epoch =  471, loss = 1.0900)\n",
            "Saving model (epoch =  502, loss = 1.0895)\n",
            "Saving model (epoch =  533, loss = 1.0891)\n",
            "Saving model (epoch =  534, loss = 1.0886)\n",
            "Saving model (epoch =  539, loss = 1.0885)\n",
            "Saving model (epoch =  547, loss = 1.0884)\n",
            "Saving model (epoch =  549, loss = 1.0877)\n",
            "Saving model (epoch =  566, loss = 1.0874)\n",
            "Saving model (epoch =  571, loss = 1.0870)\n",
            "Saving model (epoch =  591, loss = 1.0866)\n",
            "Saving model (epoch =  602, loss = 1.0845)\n",
            "Saving model (epoch =  616, loss = 1.0831)\n",
            "Saving model (epoch =  654, loss = 1.0830)\n",
            "Saving model (epoch =  685, loss = 1.0824)\n",
            "Saving model (epoch =  695, loss = 1.0818)\n",
            "Saving model (epoch =  750, loss = 1.0817)\n",
            "Saving model (epoch =  764, loss = 1.0815)\n",
            "Saving model (epoch =  767, loss = 1.0811)\n",
            "Saving model (epoch =  768, loss = 1.0806)\n",
            "Saving model (epoch =  778, loss = 1.0794)\n",
            "Saving model (epoch =  781, loss = 1.0792)\n",
            "Saving model (epoch =  783, loss = 1.0788)\n",
            "Saving model (epoch =  895, loss = 1.0774)\n",
            "Saving model (epoch =  981, loss = 1.0761)\n",
            "Saving model (epoch = 1086, loss = 1.0758)\n",
            "Saving model (epoch = 1147, loss = 1.0755)\n",
            "Saving model (epoch = 1173, loss = 1.0750)\n",
            "Saving model (epoch = 1228, loss = 1.0746)\n",
            "Saving model (epoch = 1268, loss = 1.0741)\n",
            "Saving model (epoch = 1270, loss = 1.0738)\n",
            "Saving model (epoch = 1272, loss = 1.0738)\n",
            "Saving model (epoch = 1386, loss = 1.0735)\n",
            "Saving model (epoch = 1421, loss = 1.0729)\n",
            "Saving model (epoch = 1470, loss = 1.0728)\n",
            "Saving model (epoch = 1670, loss = 1.0727)\n",
            "Saving model (epoch = 1674, loss = 1.0726)\n",
            "Saving model (epoch = 1870, loss = 1.0721)\n",
            "Finished training after 2071 epochs\n"
          ],
          "name": "stdout"
        }
      ]
    },
    {
      "cell_type": "code",
      "metadata": {
        "id": "hsNO9nnXQBvP",
        "colab": {
          "base_uri": "https://localhost:8080/",
          "height": 294
        },
        "outputId": "002c2706-4656-4d90-cbf0-f209c2ee2084"
      },
      "source": [
        "plot_learning_curve(model_loss_record, title='deep model')"
      ],
      "execution_count": 14,
      "outputs": [
        {
          "output_type": "display_data",
          "data": {
            "image/png": "[encoded data removed]",
            "text/plain": [
              "<Figure size 432x288 with 1 Axes>"
            ]
          },
          "metadata": {
            "tags": [],
            "needs_background": "light"
          }
        }
      ]
    },
    {
      "cell_type": "code",
      "metadata": {
        "id": "3iZTVn5WQFpX",
        "colab": {
          "base_uri": "https://localhost:8080/",
          "height": 349
        },
        "outputId": "f52fcab6-d422-43aa-e8a3-6e29b61cc36c"
      },
      "source": [
        "del model\n",
        "model = NeuralNet(tr_set.dataset.dim).to(device)\n",
        "ckpt = torch.load(config['save_path'], map_location='cpu')  # Load your best model\n",
        "model.load_state_dict(ckpt)\n",
        "plot_pred(dv_set, model, device)  # Show prediction on the validation set"
      ],
      "execution_count": 15,
      "outputs": [
        {
          "output_type": "display_data",
          "data": {
            "image/png": "[encoded data removed]",
            "text/plain": [
              "<Figure size 360x360 with 1 Axes>"
            ]
          },
          "metadata": {
            "tags": [],
            "needs_background": "light"
          }
        }
      ]
    },
    {
      "cell_type": "markdown",
      "metadata": {
        "id": "aQikz3IPiyPf"
      },
      "source": [
        "# **Testing**\n",
        "The predictions of your model on testing set will be stored at `pred.csv`."
      ]
    },
    {
      "cell_type": "code",
      "metadata": {
        "id": "O8cTuQjQQOon",
        "colab": {
          "base_uri": "https://localhost:8080/"
        },
        "outputId": "b99d7b13-3dd4-44ae-c207-84b0513c0b30"
      },
      "source": [
        "def save_pred(preds, file):\n",
        "    ''' Save predictions to specified file '''\n",
        "    print('Saving results to {}'.format(file))\n",
        "    with open(file, 'w') as fp:\n",
        "        writer = csv.writer(fp)\n",
        "        writer.writerow(['id', 'tested_positive'])\n",
        "        for i, p in enumerate(preds):\n",
        "            writer.writerow([i, p])\n",
        "\n",
        "preds = test(tt_set, model, device)  # predict COVID-19 cases with your model\n",
        "save_pred(preds, 'pred.csv')         # save prediction file to pred.csv"
      ],
      "execution_count": 16,
      "outputs": [
        {
          "output_type": "stream",
          "text": [
            "Saving results to pred.csv\n"
          ],
          "name": "stdout"
        }
      ]
    },
    {
      "cell_type": "markdown",
      "metadata": {
        "id": "nfrVxqJanGpE"
      },
      "source": [
        "# **Hints**\n",
        "\n",
        "## **Simple Baseline**\n",
        "* Run sample code\n",
        "\n",
        "## **Medium Baseline**\n",
        "* Feature selection: 40 states + 2 `tested_positive` (`TODO` in dataset)\n",
        "\n",
        "## **Strong Baseline**\n",
        "* Feature selection (what other features are useful?)\n",
        "* DNN architecture (layers? dimension? activation function?)\n",
        "* Training (mini-batch? optimizer? learning rate?)\n",
        "* L2 regularization\n",
        "* There are some mistakes in the sample code, can you find them?"
      ]
    },
    {
      "cell_type": "markdown",
      "metadata": {
        "id": "9tmCwXgpot3t"
      },
      "source": [
        "# **Reference**\n",
        "This code is completely written by Heng-Jui Chang @ NTUEE.  \n",
        "Copying or reusing this code is required to specify the original author. \n",
        "\n",
        "E.g.  \n",
        "Source: Heng-Jui Chang @ NTUEE (https://github.com/ga642381/ML2021-Spring/blob/main/HW01/HW01.ipynb)\n"
      ]
    }
  ]
}